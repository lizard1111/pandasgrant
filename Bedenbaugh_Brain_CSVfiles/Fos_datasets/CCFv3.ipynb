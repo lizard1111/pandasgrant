{
 "cells": [
  {
   "cell_type": "code",
   "execution_count": 20,
   "metadata": {},
   "outputs": [],
   "source": [
    "import allensdk\n",
    "import pandas as pd\n",
    "import numpy as np\n",
    "import matplotlib.pyplot as plt\n",
    "\n"
   ]
  },
  {
   "cell_type": "code",
   "execution_count": 22,
   "metadata": {},
   "outputs": [],
   "source": [
    "import allensdk\n",
    "from allensdk.api.queries.ontologies_api import OntologiesApi\n",
    "from allensdk.core.structure_tree import StructureTree\n",
    "\n",
    "oapi = OntologiesApi()\n",
    "structure_graph = oapi.get_structures_with_sets([1])  # 1 is the id of the adult mouse structure graph\n",
    "\n",
    "# This removes some unused fields returned by the query\n",
    "structure_graph = StructureTree.clean_structures(structure_graph)  \n",
    "\n",
    "tree = StructureTree(structure_graph)"
   ]
  },
  {
   "cell_type": "code",
   "execution_count": 23,
   "metadata": {},
   "outputs": [
    {
     "data": {
      "text/plain": [
       "[{'acronym': 'PVH',\n",
       "  'rgb_triplet': [255, 93, 80],\n",
       "  'graph_id': 1,\n",
       "  'graph_order': 720,\n",
       "  'id': 38,\n",
       "  'name': 'Paraventricular hypothalamic nucleus',\n",
       "  'structure_id_path': [997, 8, 343, 1129, 1097, 157, 38],\n",
       "  'structure_set_ids': [112905828,\n",
       "   691663206,\n",
       "   687527945,\n",
       "   10,\n",
       "   12,\n",
       "   688152364,\n",
       "   184527634,\n",
       "   167587189,\n",
       "   114512891]}]"
      ]
     },
     "execution_count": 23,
     "metadata": {},
     "output_type": "execute_result"
    }
   ],
   "source": [
    "# now let's take a look at a structure\n",
    "tree.get_structures_by_acronym(['PVH'])"
   ]
  },
  {
   "cell_type": "code",
   "execution_count": 28,
   "metadata": {},
   "outputs": [],
   "source": [
    "import allensdk\n",
    "from allensdk.api.queries.ontologies_api import OntologiesApi\n",
    "from allensdk.core.structure_tree import StructureTree\n",
    "\n",
    "oapi = OntologiesApi()\n",
    "structure_graph = oapi.get_structures_with_sets([602630314])  # 1 is the id of the adult mouse structure graph\n",
    "\n",
    "# This removes some unused fields returned by the query\n",
    "structure_graph = StructureTree.clean_structures(structure_graph)  \n",
    "\n",
    "tree = StructureTree(structure_graph)"
   ]
  },
  {
   "cell_type": "code",
   "execution_count": 30,
   "metadata": {},
   "outputs": [
    {
     "ename": "KeyError",
     "evalue": "''",
     "output_type": "error",
     "traceback": [
      "\u001b[0;31m---------------------------------------------------------------------------\u001b[0m",
      "\u001b[0;31mKeyError\u001b[0m                                  Traceback (most recent call last)",
      "Cell \u001b[0;32mIn[30], line 1\u001b[0m\n\u001b[0;32m----> 1\u001b[0m tree\u001b[39m.\u001b[39;49mget_structures_by_acronym([\u001b[39m'\u001b[39;49m\u001b[39m'\u001b[39;49m])\n",
      "File \u001b[0;32m~/opt/anaconda3/envs/pandas/lib/python3.10/site-packages/allensdk/core/structure_tree.py:140\u001b[0m, in \u001b[0;36mStructureTree.get_structures_by_acronym\u001b[0;34m(self, acronyms)\u001b[0m\n\u001b[1;32m    125\u001b[0m \u001b[39mdef\u001b[39;00m \u001b[39mget_structures_by_acronym\u001b[39m(\u001b[39mself\u001b[39m, acronyms):\n\u001b[1;32m    126\u001b[0m     \u001b[39m'''Obtain a list of brain structures from their acronyms\u001b[39;00m\n\u001b[1;32m    127\u001b[0m \u001b[39m    \u001b[39;00m\n\u001b[1;32m    128\u001b[0m \u001b[39m    Parameters\u001b[39;00m\n\u001b[0;32m   (...)\u001b[0m\n\u001b[1;32m    137\u001b[0m \u001b[39m        \u001b[39;00m\n\u001b[1;32m    138\u001b[0m \u001b[39m    '''\u001b[39;00m\n\u001b[0;32m--> 140\u001b[0m     \u001b[39mreturn\u001b[39;00m \u001b[39mself\u001b[39;49m\u001b[39m.\u001b[39;49mnodes_by_property(\u001b[39m'\u001b[39;49m\u001b[39macronym\u001b[39;49m\u001b[39m'\u001b[39;49m, acronyms)\n",
      "File \u001b[0;32m~/opt/anaconda3/envs/pandas/lib/python3.10/site-packages/allensdk/core/simple_tree.py:170\u001b[0m, in \u001b[0;36mSimpleTree.nodes_by_property\u001b[0;34m(self, key, values, to_fn)\u001b[0m\n\u001b[1;32m    167\u001b[0m     from_fn \u001b[39m=\u001b[39m key\n\u001b[1;32m    169\u001b[0m value_map \u001b[39m=\u001b[39m \u001b[39mself\u001b[39m\u001b[39m.\u001b[39mvalue_map( from_fn, to_fn )\n\u001b[0;32m--> 170\u001b[0m \u001b[39mreturn\u001b[39;00m [ value_map[vv] \u001b[39mfor\u001b[39;00m vv \u001b[39min\u001b[39;00m values ]\n",
      "File \u001b[0;32m~/opt/anaconda3/envs/pandas/lib/python3.10/site-packages/allensdk/core/simple_tree.py:170\u001b[0m, in \u001b[0;36m<listcomp>\u001b[0;34m(.0)\u001b[0m\n\u001b[1;32m    167\u001b[0m     from_fn \u001b[39m=\u001b[39m key\n\u001b[1;32m    169\u001b[0m value_map \u001b[39m=\u001b[39m \u001b[39mself\u001b[39m\u001b[39m.\u001b[39mvalue_map( from_fn, to_fn )\n\u001b[0;32m--> 170\u001b[0m \u001b[39mreturn\u001b[39;00m [ value_map[vv] \u001b[39mfor\u001b[39;00m vv \u001b[39min\u001b[39;00m values ]\n",
      "\u001b[0;31mKeyError\u001b[0m: ''"
     ]
    }
   ],
   "source": [
    "tree.get_structures_by_acronym([''])"
   ]
  }
 ],
 "metadata": {
  "kernelspec": {
   "display_name": "pandas",
   "language": "python",
   "name": "python3"
  },
  "language_info": {
   "codemirror_mode": {
    "name": "ipython",
    "version": 3
   },
   "file_extension": ".py",
   "mimetype": "text/x-python",
   "name": "python",
   "nbconvert_exporter": "python",
   "pygments_lexer": "ipython3",
   "version": "3.10.10"
  },
  "orig_nbformat": 4
 },
 "nbformat": 4,
 "nbformat_minor": 2
}
